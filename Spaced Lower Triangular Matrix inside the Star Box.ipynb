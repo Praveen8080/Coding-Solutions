{
 "cells": [
  {
   "cell_type": "markdown",
   "metadata": {},
   "source": [
    "<html>\n",
    "    <h3 align=\"left\">\n",
    "        Date: 13th.June.2018\n",
    "    </h3>\n",
    "</html>"
   ]
  },
  {
   "cell_type": "markdown",
   "metadata": {},
   "source": [
    "<h1><center>Printing the Spaced Lower Triangular Matrix inside the Star Box</center></h1>\n",
    "                        * * * * *              * * * * * *                 * * * * * * * *\n",
    "                        * 1     *              * 1       *                 * 1           *\n",
    "                        * 1 2   *              * 1 2     *                 * 1 2         *\n",
    "                        * 1 2 3 *              * 1 2 3   *                 * 1 2 3       *\n",
    "                        * * * * *              * 1 2 3 4 *                 * 1 2 3 4     *  \n",
    "                                               * * * * * *                 * 1 2 3 4 5   *\n",
    "                                                                           * 1 2 3 4 5 6 *\n",
    "                                                                           * * * * * * * *"
   ]
  },
  {
   "cell_type": "markdown",
   "metadata": {},
   "source": [
    "## Approach :"
   ]
  },
  {
   "cell_type": "markdown",
   "metadata": {},
   "source": [
    "### 1.First we try to print the full box of stars"
   ]
  },
  {
   "cell_type": "code",
   "execution_count": 17,
   "metadata": {},
   "outputs": [],
   "source": [
    "def fullboxstars(n):\n",
    "#     Outer loop for row iteration\n",
    "    for i in range(0,n):\n",
    "#         Inner Loop for Column iteration\n",
    "        for j in range(0,n):\n",
    "            print(\"* \", end=\"\")\n",
    "#       \\r for printing in the New Line      \n",
    "        print(\"\\r\")        "
   ]
  },
  {
   "cell_type": "code",
   "execution_count": 18,
   "metadata": {},
   "outputs": [
    {
     "name": "stdout",
     "output_type": "stream",
     "text": [
      "* * * * * \r\n",
      "* * * * * \r\n",
      "* * * * * \r\n",
      "* * * * * \r\n",
      "* * * * * \r\n"
     ]
    }
   ],
   "source": [
    "fullboxstars(5)"
   ]
  },
  {
   "cell_type": "markdown",
   "metadata": {},
   "source": [
    "### Now we got our full box of stars we make the full box of stars as border star box with spaces in the box"
   ]
  },
  {
   "cell_type": "code",
   "execution_count": 19,
   "metadata": {},
   "outputs": [],
   "source": [
    "def border_star_box(n):\n",
    "    for i in range(0,n):\n",
    "            for j in range(0,n):\n",
    "                if(i == 0 or i == n-1 or j == 0 or j == n-1):\n",
    "                    print(\"* \", end=\"\")\n",
    "                else:\n",
    "                    print(\" \", end=\" \")\n",
    "            print(\"\\r\")"
   ]
  },
  {
   "cell_type": "code",
   "execution_count": 20,
   "metadata": {},
   "outputs": [
    {
     "name": "stdout",
     "output_type": "stream",
     "text": [
      "* * * * * \r\n",
      "*       * \r\n",
      "*       * \r\n",
      "*       * \r\n",
      "* * * * * \r\n"
     ]
    }
   ],
   "source": [
    "border_star_box(5)"
   ]
  },
  {
   "cell_type": "markdown",
   "metadata": {},
   "source": [
    "### With this we got our border outline box, now we go to the numbers part. Here also we do the Similar Approach we did for box outline First we print the numbers as the complete matrix."
   ]
  },
  {
   "cell_type": "code",
   "execution_count": 21,
   "metadata": {},
   "outputs": [],
   "source": [
    "def complete_number_matrix(n):\n",
    "    num = 1\n",
    "    for i in range(0,n):\n",
    "        num = 1\n",
    "        for j in range(0,n):\n",
    "            print(num, end=\" \")\n",
    "            num = num + 1\n",
    "        print(\"\\r\")"
   ]
  },
  {
   "cell_type": "code",
   "execution_count": 22,
   "metadata": {},
   "outputs": [
    {
     "name": "stdout",
     "output_type": "stream",
     "text": [
      "1 2 3 4 5 \r\n",
      "1 2 3 4 5 \r\n",
      "1 2 3 4 5 \r\n",
      "1 2 3 4 5 \r\n",
      "1 2 3 4 5 \r\n"
     ]
    }
   ],
   "source": [
    "complete_number_matrix(5)"
   ]
  },
  {
   "cell_type": "markdown",
   "metadata": {},
   "source": [
    "### Yes, we got the complete number matrix. Wait, but we need the Lower Triangular matrix. what should we do..? "
   ]
  },
  {
   "cell_type": "markdown",
   "metadata": {},
   "source": [
    "### Firstly, for getting the complete number matrix we are iterating the every row and column. In order to get the Lower Triangular matrix, we need not to iterate the complete columns for every row. Instead we can incrementally iterate the columns with increase of rows. i.e for row 1 column range will be 1 and for row 2 column range will be 2 and so on "
   ]
  },
  {
   "cell_type": "code",
   "execution_count": 23,
   "metadata": {},
   "outputs": [],
   "source": [
    "def lower_triangular_matrix(n):\n",
    "    for i in range(0,n):\n",
    "        num = 1\n",
    "        for j in range(0,i+1):\n",
    "            print(num, end=\" \")\n",
    "            num = num + 1\n",
    "        print(\"\\r\")"
   ]
  },
  {
   "cell_type": "code",
   "execution_count": 24,
   "metadata": {},
   "outputs": [
    {
     "name": "stdout",
     "output_type": "stream",
     "text": [
      "1 \r\n",
      "1 2 \r\n",
      "1 2 3 \r\n",
      "1 2 3 4 \r\n",
      "1 2 3 4 5 \r\n"
     ]
    }
   ],
   "source": [
    "lower_triangular_matrix(5)"
   ]
  },
  {
   "cell_type": "markdown",
   "metadata": {},
   "source": [
    "### Now we have the border star box and the lower triangular matrix. we need to put the lower triangular matrix in the box."
   ]
  },
  {
   "cell_type": "code",
   "execution_count": 25,
   "metadata": {},
   "outputs": [],
   "source": [
    "def triangle_box_inside_stars(n):\n",
    "    num = 1\n",
    "    for i in range(0,n):\n",
    "        num = 1\n",
    "        for j in range(0,n):\n",
    "            if(i == 0 or i == n-1 or j == 0 or j == n-1):\n",
    "                print(\"* \", end=\"\")\n",
    "            elif(j <= i):\n",
    "                print(num, end=\" \")\n",
    "                num = num + 1\n",
    "            else:\n",
    "                print(\" \", end=\" \")\n",
    "        print(\"\\r\")"
   ]
  },
  {
   "cell_type": "code",
   "execution_count": 29,
   "metadata": {},
   "outputs": [
    {
     "name": "stdout",
     "output_type": "stream",
     "text": [
      "* * * \r\n",
      "* 1 * \r\n",
      "* * * \r\n"
     ]
    }
   ],
   "source": [
    "triangle_box_inside_stars(3)"
   ]
  },
  {
   "cell_type": "code",
   "execution_count": 31,
   "metadata": {},
   "outputs": [
    {
     "name": "stdout",
     "output_type": "stream",
     "text": [
      "* * * \r\n",
      "* 1 * \r\n",
      "* * * \r\n",
      "\r\n",
      "* * * * \r\n",
      "* 1   * \r\n",
      "* 1 2 * \r\n",
      "* * * * \r\n",
      "\r\n",
      "* * * * * \r\n",
      "* 1     * \r\n",
      "* 1 2   * \r\n",
      "* 1 2 3 * \r\n",
      "* * * * * \r\n",
      "\r\n",
      "* * * * * * \r\n",
      "* 1       * \r\n",
      "* 1 2     * \r\n",
      "* 1 2 3   * \r\n",
      "* 1 2 3 4 * \r\n",
      "* * * * * * \r\n",
      "\r\n",
      "* * * * * * * \r\n",
      "* 1         * \r\n",
      "* 1 2       * \r\n",
      "* 1 2 3     * \r\n",
      "* 1 2 3 4   * \r\n",
      "* 1 2 3 4 5 * \r\n",
      "* * * * * * * \r\n",
      "\r\n",
      "* * * * * * * * \r\n",
      "* 1           * \r\n",
      "* 1 2         * \r\n",
      "* 1 2 3       * \r\n",
      "* 1 2 3 4     * \r\n",
      "* 1 2 3 4 5   * \r\n",
      "* 1 2 3 4 5 6 * \r\n",
      "* * * * * * * * \r\n",
      "\r\n",
      "* * * * * * * * * \r\n",
      "* 1             * \r\n",
      "* 1 2           * \r\n",
      "* 1 2 3         * \r\n",
      "* 1 2 3 4       * \r\n",
      "* 1 2 3 4 5     * \r\n",
      "* 1 2 3 4 5 6   * \r\n",
      "* 1 2 3 4 5 6 7 * \r\n",
      "* * * * * * * * * \r\n",
      "\r\n"
     ]
    }
   ],
   "source": [
    "for i in range(3,10):\n",
    "    triangle_box_inside_stars(i)\n",
    "    print(\"\\r\")"
   ]
  }
 ],
 "metadata": {
  "kernelspec": {
   "display_name": "Python 3",
   "language": "python",
   "name": "python3"
  },
  "language_info": {
   "codemirror_mode": {
    "name": "ipython",
    "version": 3
   },
   "file_extension": ".py",
   "mimetype": "text/x-python",
   "name": "python",
   "nbconvert_exporter": "python",
   "pygments_lexer": "ipython3",
   "version": "3.6.5"
  }
 },
 "nbformat": 4,
 "nbformat_minor": 2
}
